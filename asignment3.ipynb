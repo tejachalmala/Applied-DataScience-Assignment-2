{
 "cells": [
  {
   "cell_type": "code",
   "execution_count": 36,
   "id": "d42c68d0-9149-4e28-a01a-a498897967c0",
   "metadata": {},
   "outputs": [],
   "source": [
    "import pandas as pd\n",
    "\n",
    "def load_dataframe(path):\n",
    "    df = pd.read_csv(path)\n",
    "    df = df.drop(['Country Code', 'Indicator Code'], axis =1)\n",
    "    year_df = df.set_index(['Country Name', 'Indicator Name'])\n",
    "    country_df = year_df.stack().unstack('Country Name')\n",
    "    country_df.index.names = ['Indicator Name', 'years']\n",
    "    return year_df, country_df "
   ]
  },
  {
   "cell_type": "code",
   "execution_count": 55,
   "id": "c04f275c-92fb-48d5-b75e-9e00e471dcdb",
   "metadata": {},
   "outputs": [],
   "source": [
    "#analysing countries metadata"
   ]
  },
  {
   "cell_type": "code",
   "execution_count": 55,
   "id": "6d2566a7-1fd9-486f-b341-b9f5d3d8f5ea",
   "metadata": {},
   "outputs": [],
   "source": [
    "countries_df = pd.read_csv('data/Metadata_Country_API_19_DS2_en_csv_v2_3931355.csv', index_col=False)"
   ]
  },
  {
   "cell_type": "code",
   "execution_count": 69,
   "id": "4c47acc1-503b-41ad-af03-7c3917223af5",
   "metadata": {},
   "outputs": [
    {
     "data": {
      "text/html": [
       "<div>\n",
       "<style scoped>\n",
       "    .dataframe tbody tr th:only-of-type {\n",
       "        vertical-align: middle;\n",
       "    }\n",
       "\n",
       "    .dataframe tbody tr th {\n",
       "        vertical-align: top;\n",
       "    }\n",
       "\n",
       "    .dataframe thead th {\n",
       "        text-align: right;\n",
       "    }\n",
       "</style>\n",
       "<table border=\"1\" class=\"dataframe\">\n",
       "  <thead>\n",
       "    <tr style=\"text-align: right;\">\n",
       "      <th></th>\n",
       "      <th>Country Code</th>\n",
       "      <th>IncomeGroup</th>\n",
       "      <th>SpecialNotes</th>\n",
       "      <th>TableName</th>\n",
       "      <th>Unnamed: 5</th>\n",
       "    </tr>\n",
       "    <tr>\n",
       "      <th>Region</th>\n",
       "      <th></th>\n",
       "      <th></th>\n",
       "      <th></th>\n",
       "      <th></th>\n",
       "      <th></th>\n",
       "    </tr>\n",
       "  </thead>\n",
       "  <tbody>\n",
       "    <tr>\n",
       "      <th>East Asia &amp; Pacific</th>\n",
       "      <td>1</td>\n",
       "      <td>1</td>\n",
       "      <td>0</td>\n",
       "      <td>1</td>\n",
       "      <td>0</td>\n",
       "    </tr>\n",
       "    <tr>\n",
       "      <th>Middle East &amp; North Africa</th>\n",
       "      <td>2</td>\n",
       "      <td>2</td>\n",
       "      <td>2</td>\n",
       "      <td>2</td>\n",
       "      <td>0</td>\n",
       "    </tr>\n",
       "    <tr>\n",
       "      <th>South Asia</th>\n",
       "      <td>1</td>\n",
       "      <td>1</td>\n",
       "      <td>1</td>\n",
       "      <td>1</td>\n",
       "      <td>0</td>\n",
       "    </tr>\n",
       "    <tr>\n",
       "      <th>Sub-Saharan Africa</th>\n",
       "      <td>23</td>\n",
       "      <td>23</td>\n",
       "      <td>9</td>\n",
       "      <td>23</td>\n",
       "      <td>0</td>\n",
       "    </tr>\n",
       "  </tbody>\n",
       "</table>\n",
       "</div>"
      ],
      "text/plain": [
       "                            Country Code  IncomeGroup  SpecialNotes  \\\n",
       "Region                                                                \n",
       "East Asia & Pacific                    1            1             0   \n",
       "Middle East & North Africa             2            2             2   \n",
       "South Asia                             1            1             1   \n",
       "Sub-Saharan Africa                    23           23             9   \n",
       "\n",
       "                            TableName  Unnamed: 5  \n",
       "Region                                             \n",
       "East Asia & Pacific                 1           0  \n",
       "Middle East & North Africa          2           0  \n",
       "South Asia                          1           0  \n",
       "Sub-Saharan Africa                 23           0  "
      ]
     },
     "execution_count": 69,
     "metadata": {},
     "output_type": "execute_result"
    }
   ],
   "source": [
    "countries_df[countries_df['IncomeGroup']=='Low income'].groupby('Region').count()"
   ]
  },
  {
   "cell_type": "code",
   "execution_count": 70,
   "id": "435fc9f0-1d79-4d44-ae8b-514208f269fa",
   "metadata": {},
   "outputs": [
    {
     "data": {
      "text/html": [
       "<div>\n",
       "<style scoped>\n",
       "    .dataframe tbody tr th:only-of-type {\n",
       "        vertical-align: middle;\n",
       "    }\n",
       "\n",
       "    .dataframe tbody tr th {\n",
       "        vertical-align: top;\n",
       "    }\n",
       "\n",
       "    .dataframe thead th {\n",
       "        text-align: right;\n",
       "    }\n",
       "</style>\n",
       "<table border=\"1\" class=\"dataframe\">\n",
       "  <thead>\n",
       "    <tr style=\"text-align: right;\">\n",
       "      <th></th>\n",
       "      <th>Country Code</th>\n",
       "      <th>IncomeGroup</th>\n",
       "      <th>SpecialNotes</th>\n",
       "      <th>TableName</th>\n",
       "      <th>Unnamed: 5</th>\n",
       "    </tr>\n",
       "    <tr>\n",
       "      <th>Region</th>\n",
       "      <th></th>\n",
       "      <th></th>\n",
       "      <th></th>\n",
       "      <th></th>\n",
       "      <th></th>\n",
       "    </tr>\n",
       "  </thead>\n",
       "  <tbody>\n",
       "    <tr>\n",
       "      <th>East Asia &amp; Pacific</th>\n",
       "      <td>14</td>\n",
       "      <td>14</td>\n",
       "      <td>8</td>\n",
       "      <td>14</td>\n",
       "      <td>0</td>\n",
       "    </tr>\n",
       "    <tr>\n",
       "      <th>Europe &amp; Central Asia</th>\n",
       "      <td>37</td>\n",
       "      <td>37</td>\n",
       "      <td>21</td>\n",
       "      <td>37</td>\n",
       "      <td>0</td>\n",
       "    </tr>\n",
       "    <tr>\n",
       "      <th>Latin America &amp; Caribbean</th>\n",
       "      <td>16</td>\n",
       "      <td>16</td>\n",
       "      <td>1</td>\n",
       "      <td>16</td>\n",
       "      <td>0</td>\n",
       "    </tr>\n",
       "    <tr>\n",
       "      <th>Middle East &amp; North Africa</th>\n",
       "      <td>8</td>\n",
       "      <td>8</td>\n",
       "      <td>1</td>\n",
       "      <td>8</td>\n",
       "      <td>0</td>\n",
       "    </tr>\n",
       "    <tr>\n",
       "      <th>North America</th>\n",
       "      <td>3</td>\n",
       "      <td>3</td>\n",
       "      <td>1</td>\n",
       "      <td>3</td>\n",
       "      <td>0</td>\n",
       "    </tr>\n",
       "    <tr>\n",
       "      <th>Sub-Saharan Africa</th>\n",
       "      <td>1</td>\n",
       "      <td>1</td>\n",
       "      <td>0</td>\n",
       "      <td>1</td>\n",
       "      <td>0</td>\n",
       "    </tr>\n",
       "  </tbody>\n",
       "</table>\n",
       "</div>"
      ],
      "text/plain": [
       "                            Country Code  IncomeGroup  SpecialNotes  \\\n",
       "Region                                                                \n",
       "East Asia & Pacific                   14           14             8   \n",
       "Europe & Central Asia                 37           37            21   \n",
       "Latin America & Caribbean             16           16             1   \n",
       "Middle East & North Africa             8            8             1   \n",
       "North America                          3            3             1   \n",
       "Sub-Saharan Africa                     1            1             0   \n",
       "\n",
       "                            TableName  Unnamed: 5  \n",
       "Region                                             \n",
       "East Asia & Pacific                14           0  \n",
       "Europe & Central Asia              37           0  \n",
       "Latin America & Caribbean          16           0  \n",
       "Middle East & North Africa          8           0  \n",
       "North America                       3           0  \n",
       "Sub-Saharan Africa                  1           0  "
      ]
     },
     "execution_count": 70,
     "metadata": {},
     "output_type": "execute_result"
    }
   ],
   "source": [
    "countries_df[countries_df['IncomeGroup']=='High income'].groupby('Region').count()"
   ]
  },
  {
   "cell_type": "code",
   "execution_count": 84,
   "id": "53c726e6-540a-44a2-ae99-522c9e718c99",
   "metadata": {},
   "outputs": [
    {
     "data": {
      "text/html": [
       "<div>\n",
       "<style scoped>\n",
       "    .dataframe tbody tr th:only-of-type {\n",
       "        vertical-align: middle;\n",
       "    }\n",
       "\n",
       "    .dataframe tbody tr th {\n",
       "        vertical-align: top;\n",
       "    }\n",
       "\n",
       "    .dataframe thead th {\n",
       "        text-align: right;\n",
       "    }\n",
       "</style>\n",
       "<table border=\"1\" class=\"dataframe\">\n",
       "  <thead>\n",
       "    <tr style=\"text-align: right;\">\n",
       "      <th></th>\n",
       "      <th>Country Code</th>\n",
       "      <th>Region</th>\n",
       "      <th>IncomeGroup</th>\n",
       "      <th>SpecialNotes</th>\n",
       "      <th>TableName</th>\n",
       "      <th>Unnamed: 5</th>\n",
       "    </tr>\n",
       "  </thead>\n",
       "  <tbody>\n",
       "    <tr>\n",
       "      <th>225</th>\n",
       "      <td>SYC</td>\n",
       "      <td>Sub-Saharan Africa</td>\n",
       "      <td>High income</td>\n",
       "      <td>NaN</td>\n",
       "      <td>Seychelles</td>\n",
       "      <td>NaN</td>\n",
       "    </tr>\n",
       "  </tbody>\n",
       "</table>\n",
       "</div>"
      ],
      "text/plain": [
       "    Country Code              Region  IncomeGroup SpecialNotes   TableName  \\\n",
       "225          SYC  Sub-Saharan Africa  High income          NaN  Seychelles   \n",
       "\n",
       "     Unnamed: 5  \n",
       "225         NaN  "
      ]
     },
     "execution_count": 84,
     "metadata": {},
     "output_type": "execute_result"
    }
   ],
   "source": [
    "countries_df.loc[(countries_df['IncomeGroup']=='High income') & (countries_df['Region']=='Sub-Saharan Africa')]\n"
   ]
  },
  {
   "cell_type": "code",
   "execution_count": 37,
   "id": "0630cb7c-5a19-47d1-b778-a72e5c804ec2",
   "metadata": {},
   "outputs": [],
   "source": [
    "year_df, country_df = load_dataframe('data/final.csv')"
   ]
  },
  {
   "cell_type": "code",
   "execution_count": 86,
   "id": "51259467-83e9-4d79-93e7-e9ff5e23b42b",
   "metadata": {},
   "outputs": [],
   "source": [
    "selected_countries = ['Seychelles', 'United Kingdom', 'Afghanistan', 'Singapore']"
   ]
  },
  {
   "cell_type": "code",
   "execution_count": 95,
   "id": "c137200e-9752-4bb0-b7e4-a7cd3da40485",
   "metadata": {},
   "outputs": [
    {
     "data": {
      "text/html": [
       "<div>\n",
       "<style scoped>\n",
       "    .dataframe tbody tr th:only-of-type {\n",
       "        vertical-align: middle;\n",
       "    }\n",
       "\n",
       "    .dataframe tbody tr th {\n",
       "        vertical-align: top;\n",
       "    }\n",
       "\n",
       "    .dataframe thead tr th {\n",
       "        text-align: left;\n",
       "    }\n",
       "\n",
       "    .dataframe thead tr:last-of-type th {\n",
       "        text-align: right;\n",
       "    }\n",
       "</style>\n",
       "<table border=\"1\" class=\"dataframe\">\n",
       "  <thead>\n",
       "    <tr>\n",
       "      <th>Country Name</th>\n",
       "      <th colspan=\"4\" halign=\"left\">Seychelles</th>\n",
       "      <th colspan=\"4\" halign=\"left\">United Kingdom</th>\n",
       "      <th colspan=\"4\" halign=\"left\">Afghanistan</th>\n",
       "      <th colspan=\"4\" halign=\"left\">Singapore</th>\n",
       "      <th colspan=\"4\" halign=\"left\">World</th>\n",
       "    </tr>\n",
       "    <tr>\n",
       "      <th></th>\n",
       "      <th>first</th>\n",
       "      <th>last</th>\n",
       "      <th>min</th>\n",
       "      <th>max</th>\n",
       "      <th>first</th>\n",
       "      <th>last</th>\n",
       "      <th>min</th>\n",
       "      <th>max</th>\n",
       "      <th>first</th>\n",
       "      <th>last</th>\n",
       "      <th>min</th>\n",
       "      <th>max</th>\n",
       "      <th>first</th>\n",
       "      <th>last</th>\n",
       "      <th>min</th>\n",
       "      <th>max</th>\n",
       "      <th>first</th>\n",
       "      <th>last</th>\n",
       "      <th>min</th>\n",
       "      <th>max</th>\n",
       "    </tr>\n",
       "    <tr>\n",
       "      <th>Indicator Name</th>\n",
       "      <th></th>\n",
       "      <th></th>\n",
       "      <th></th>\n",
       "      <th></th>\n",
       "      <th></th>\n",
       "      <th></th>\n",
       "      <th></th>\n",
       "      <th></th>\n",
       "      <th></th>\n",
       "      <th></th>\n",
       "      <th></th>\n",
       "      <th></th>\n",
       "      <th></th>\n",
       "      <th></th>\n",
       "      <th></th>\n",
       "      <th></th>\n",
       "      <th></th>\n",
       "      <th></th>\n",
       "      <th></th>\n",
       "      <th></th>\n",
       "    </tr>\n",
       "  </thead>\n",
       "  <tbody>\n",
       "    <tr>\n",
       "      <th>Urban population (% of total population)</th>\n",
       "      <td>27.673000</td>\n",
       "      <td>57.546000</td>\n",
       "      <td>27.67300</td>\n",
       "      <td>57.546000</td>\n",
       "      <td>78.444000</td>\n",
       "      <td>83.90300</td>\n",
       "      <td>77.030000</td>\n",
       "      <td>83.903000</td>\n",
       "      <td>8.401000</td>\n",
       "      <td>26.026000</td>\n",
       "      <td>8.401000</td>\n",
       "      <td>26.026000</td>\n",
       "      <td>100.000000</td>\n",
       "      <td>100.000000</td>\n",
       "      <td>100.000000</td>\n",
       "      <td>100.000000</td>\n",
       "      <td>3.361797e+01</td>\n",
       "      <td>5.615635e+01</td>\n",
       "      <td>3.361797e+01</td>\n",
       "      <td>5.615635e+01</td>\n",
       "    </tr>\n",
       "    <tr>\n",
       "      <th>Agricultural land (% of land area)</th>\n",
       "      <td>10.869565</td>\n",
       "      <td>3.369565</td>\n",
       "      <td>3.26087</td>\n",
       "      <td>13.043478</td>\n",
       "      <td>81.841855</td>\n",
       "      <td>71.71852</td>\n",
       "      <td>70.073988</td>\n",
       "      <td>81.841855</td>\n",
       "      <td>57.745918</td>\n",
       "      <td>58.081365</td>\n",
       "      <td>57.745918</td>\n",
       "      <td>58.288148</td>\n",
       "      <td>20.895522</td>\n",
       "      <td>0.930889</td>\n",
       "      <td>0.930889</td>\n",
       "      <td>20.895522</td>\n",
       "      <td>3.596509e+01</td>\n",
       "      <td>3.690352e+01</td>\n",
       "      <td>3.596509e+01</td>\n",
       "      <td>3.889515e+01</td>\n",
       "    </tr>\n",
       "    <tr>\n",
       "      <th>CO2 emissions (kt)</th>\n",
       "      <td>7.334000</td>\n",
       "      <td>620.000000</td>\n",
       "      <td>7.33400</td>\n",
       "      <td>750.000000</td>\n",
       "      <td>584299.780000</td>\n",
       "      <td>358800.00000</td>\n",
       "      <td>358800.000000</td>\n",
       "      <td>660863.073000</td>\n",
       "      <td>414.371000</td>\n",
       "      <td>7440.000000</td>\n",
       "      <td>414.371000</td>\n",
       "      <td>12260.000000</td>\n",
       "      <td>1393.460000</td>\n",
       "      <td>47360.000000</td>\n",
       "      <td>674.728000</td>\n",
       "      <td>47430.000000</td>\n",
       "      <td>9.463838e+06</td>\n",
       "      <td>3.404105e+07</td>\n",
       "      <td>9.423934e+06</td>\n",
       "      <td>3.404105e+07</td>\n",
       "    </tr>\n",
       "  </tbody>\n",
       "</table>\n",
       "</div>"
      ],
      "text/plain": [
       "Country Name                             Seychelles                        \\\n",
       "                                              first        last       min   \n",
       "Indicator Name                                                              \n",
       "Urban population (% of total population)  27.673000   57.546000  27.67300   \n",
       "Agricultural land (% of land area)        10.869565    3.369565   3.26087   \n",
       "CO2 emissions (kt)                         7.334000  620.000000   7.33400   \n",
       "\n",
       "Country Name                                         United Kingdom  \\\n",
       "                                                 max          first   \n",
       "Indicator Name                                                        \n",
       "Urban population (% of total population)   57.546000      78.444000   \n",
       "Agricultural land (% of land area)         13.043478      81.841855   \n",
       "CO2 emissions (kt)                        750.000000  584299.780000   \n",
       "\n",
       "Country Name                                                           \\\n",
       "                                                  last            min   \n",
       "Indicator Name                                                          \n",
       "Urban population (% of total population)      83.90300      77.030000   \n",
       "Agricultural land (% of land area)            71.71852      70.073988   \n",
       "CO2 emissions (kt)                        358800.00000  358800.000000   \n",
       "\n",
       "Country Name                                            Afghanistan  \\\n",
       "                                                    max       first   \n",
       "Indicator Name                                                        \n",
       "Urban population (% of total population)      83.903000    8.401000   \n",
       "Agricultural land (% of land area)            81.841855   57.745918   \n",
       "CO2 emissions (kt)                        660863.073000  414.371000   \n",
       "\n",
       "Country Name                                                       \\\n",
       "                                                 last         min   \n",
       "Indicator Name                                                      \n",
       "Urban population (% of total population)    26.026000    8.401000   \n",
       "Agricultural land (% of land area)          58.081365   57.745918   \n",
       "CO2 emissions (kt)                        7440.000000  414.371000   \n",
       "\n",
       "Country Name                                              Singapore  \\\n",
       "                                                   max        first   \n",
       "Indicator Name                                                        \n",
       "Urban population (% of total population)     26.026000   100.000000   \n",
       "Agricultural land (% of land area)           58.288148    20.895522   \n",
       "CO2 emissions (kt)                        12260.000000  1393.460000   \n",
       "\n",
       "Country Name                                                        \\\n",
       "                                                  last         min   \n",
       "Indicator Name                                                       \n",
       "Urban population (% of total population)    100.000000  100.000000   \n",
       "Agricultural land (% of land area)            0.930889    0.930889   \n",
       "CO2 emissions (kt)                        47360.000000  674.728000   \n",
       "\n",
       "Country Name                                                   World  \\\n",
       "                                                   max         first   \n",
       "Indicator Name                                                         \n",
       "Urban population (% of total population)    100.000000  3.361797e+01   \n",
       "Agricultural land (% of land area)           20.895522  3.596509e+01   \n",
       "CO2 emissions (kt)                        47430.000000  9.463838e+06   \n",
       "\n",
       "Country Name                                                          \\\n",
       "                                                  last           min   \n",
       "Indicator Name                                                         \n",
       "Urban population (% of total population)  5.615635e+01  3.361797e+01   \n",
       "Agricultural land (% of land area)        3.690352e+01  3.596509e+01   \n",
       "CO2 emissions (kt)                        3.404105e+07  9.423934e+06   \n",
       "\n",
       "Country Name                                            \n",
       "                                                   max  \n",
       "Indicator Name                                          \n",
       "Urban population (% of total population)  5.615635e+01  \n",
       "Agricultural land (% of land area)        3.889515e+01  \n",
       "CO2 emissions (kt)                        3.404105e+07  "
      ]
     },
     "execution_count": 95,
     "metadata": {},
     "output_type": "execute_result"
    }
   ],
   "source": [
    "country_df.groupby(level=0).aggregate(['first','last','min','max'])[selected_countries+[\"World\"]].loc[['Urban population (% of total population)','Agricultural land (% of land area)', 'CO2 emissions (kt)']]"
   ]
  },
  {
   "cell_type": "markdown",
   "id": "3b20d831-06cd-45fe-b907-956b6bffeaa2",
   "metadata": {},
   "source": [
    "## Correlations between indicators"
   ]
  },
  {
   "cell_type": "code",
   "execution_count": 270,
   "id": "2f47adeb-293f-490c-93fb-d5b3ab8b22b2",
   "metadata": {
    "tags": []
   },
   "outputs": [],
   "source": [
    "def plot_scatter_plot(x, y, title, xlabel, ylabel, color='blue', rotation=0, subplot_num=None, axis = None, fillcolor='skyblue', figsize=(5,5), scale = None): \n",
    "    \"\"\"plots the line graph based on input parameters\n",
    "\n",
    "    Args:\n",
    "        x (dataframe): data to be plotted on x axis\n",
    "        y (dataframe): data to be plotted on y axis      \n",
    "        title (str) : title of the plot\n",
    "        xlabel (str) : description of x axis\n",
    "        ylabel (str) : description of y axis\n",
    "        color (str) : color of the line plot\n",
    "        rotation (str) : rotation of xlabels\n",
    "        subplot_num (str) : subplot number if any \n",
    "        axis (str) : predefined figure axis if any\n",
    "        fillcolor (str) : fillcolor inside line plot\n",
    "        figsize (str) : size of the plot\n",
    "        scale (str) : scale of y axis values eg: 'M', 'K'        \n",
    "\n",
    "    Returns:\n",
    "        plot: line graph with mentioned parameters\n",
    "    \"\"\"\n",
    "    import numpy as np\n",
    "    if axis == None:\n",
    "        figure, axis = plt.subplots(1, 1, figsize=figsize)\n",
    "    if subplot_num != None:\n",
    "        axis = axis[subplot_num]\n",
    "    print(axis)\n",
    "    axis.scatter(x, y, color =color)\n",
    "    axis.set_title(title)\n",
    "    plt.setp(axis.get_xticklabels(), rotation=rotation)\n",
    "    # plt.fill_between(x, y, alpha=0.4, color=fillcolor)\n",
    "    axis.set_xlabel(xlabel)\n",
    "    axis.set_ylabel(ylabel)\n",
    "    current_values = plt.gca().get_yticks()\n",
    "    if scale == None:\n",
    "        axis.set_yticklabels(['{:,.0f}'.format(x) for x in plt.gca().get_yticks()])\n",
    "    elif scale == 'K':\n",
    "        axis.set_yticklabels(['{:,.0f}'.format(x) + 'K' for x in plt.gca().get_yticks()/1E3])\n",
    "    elif scale == 'M':\n",
    "        axis.set_yticklabels(['{:,.0f}'.format(x) + 'M' for x in plt.gca().get_yticks()/1E6])\n",
    "    plt.show()\n",
    " "
   ]
  },
  {
   "cell_type": "code",
   "execution_count": 279,
   "id": "577ff982-1dea-4785-8463-5bfdeca22717",
   "metadata": {},
   "outputs": [
    {
     "name": "stdout",
     "output_type": "stream",
     "text": [
      "AxesSubplot(0.125,0.125;0.775x0.755)\n"
     ]
    },
    {
     "name": "stderr",
     "output_type": "stream",
     "text": [
      "C:\\Users\\dj\\AppData\\Local\\Temp/ipykernel_34396/3566148914.py:35: UserWarning: FixedFormatter should only be used together with FixedLocator\n",
      "  axis.set_yticklabels(['{:,.0f}'.format(x) for x in plt.gca().get_yticks()])\n"
     ]
    },
    {
     "data": {
      "image/png": "[encoded data removed]",
      "text/plain": [
       "<Figure size 360x360 with 1 Axes>"
      ]
     },
     "metadata": {
      "needs_background": "light"
     },
     "output_type": "display_data"
    },
    {
     "name": "stdout",
     "output_type": "stream",
     "text": [
      "AxesSubplot(0.125,0.125;0.775x0.755)\n"
     ]
    },
    {
     "data": {
      "image/png": "[encoded data removed]",
      "text/plain": [
       "<Figure size 360x360 with 1 Axes>"
      ]
     },
     "metadata": {
      "needs_background": "light"
     },
     "output_type": "display_data"
    },
    {
     "name": "stdout",
     "output_type": "stream",
     "text": [
      "AxesSubplot(0.125,0.125;0.775x0.755)\n"
     ]
    },
    {
     "data": {
      "image/png": "[encoded data removed]",
      "text/plain": [
       "<Figure size 360x360 with 1 Axes>"
      ]
     },
     "metadata": {
      "needs_background": "light"
     },
     "output_type": "display_data"
    }
   ],
   "source": [
    "india_2020_indicators = pd.DataFrame(year_df.loc['China']).T\n",
    "plot_scatter_plot(india_2020_indicators['Urban population'],india_2020_indicators['CO2 emissions (kt)'], 'Urban population vs CO2 emissions', 'urban population', 'CO2 emissions', color='springgreen')\n",
    "plot_scatter_plot(india_2020_indicators['Agricultural land (% of land area)'], india_2020_indicators['Agriculture, forestry, and fishing, value added (% of GDP)'], 'Agricultural land Vs Agricultural GDP %','Agricultural land', 'argricultural % of GDP', color='tomato')\n",
    "plot_scatter_plot(india_2020_indicators['Urban population'], india_2020_indicators['Electric power consumption (kWh per capita)'], 'urban population vs electric power consumption','urban population', 'electric power consumption', color='magenta')"
   ]
  },
  {
   "cell_type": "code",
   "execution_count": 287,
   "id": "76c63a63-d319-47c1-810d-e10589017ca4",
   "metadata": {},
   "outputs": [
    {
     "name": "stdout",
     "output_type": "stream",
     "text": [
      "AxesSubplot(0.125,0.125;0.775x0.755)\n"
     ]
    },
    {
     "name": "stderr",
     "output_type": "stream",
     "text": [
      "C:\\Users\\dj\\AppData\\Local\\Temp/ipykernel_34396/3566148914.py:35: UserWarning: FixedFormatter should only be used together with FixedLocator\n",
      "  axis.set_yticklabels(['{:,.0f}'.format(x) for x in plt.gca().get_yticks()])\n"
     ]
    },
    {
     "data": {
      "image/png": "[encoded data removed]",
      "text/plain": [
       "<Figure size 360x360 with 1 Axes>"
      ]
     },
     "metadata": {
      "needs_background": "light"
     },
     "output_type": "display_data"
    },
    {
     "name": "stdout",
     "output_type": "stream",
     "text": [
      "AxesSubplot(0.125,0.125;0.775x0.755)\n"
     ]
    },
    {
     "data": {
      "image/png": "[encoded data removed]",
      "text/plain": [
       "<Figure size 360x360 with 1 Axes>"
      ]
     },
     "metadata": {
      "needs_background": "light"
     },
     "output_type": "display_data"
    },
    {
     "name": "stdout",
     "output_type": "stream",
     "text": [
      "AxesSubplot(0.125,0.125;0.775x0.755)\n"
     ]
    },
    {
     "data": {
      "image/png": "[encoded data removed]",
      "text/plain": [
       "<Figure size 360x360 with 1 Axes>"
      ]
     },
     "metadata": {
      "needs_background": "light"
     },
     "output_type": "display_data"
    }
   ],
   "source": [
    "india_2020_indicators = pd.DataFrame(year_df.loc['United Kingdom']).T\n",
    "plot_scatter_plot(india_2020_indicators['Urban population'],india_2020_indicators['CO2 emissions (kt)'], 'Urban population vs CO2 emissions', 'urban population', 'CO2 emissions', color='springgreen')\n",
    "plot_scatter_plot(india_2020_indicators['Agricultural land (% of land area)'], india_2020_indicators['Agriculture, forestry, and fishing, value added (% of GDP)'], 'Agricultural land Vs Agricultural GDP %','Agricultural land', 'argricultural % of GDP', color='tomato')\n",
    "plot_scatter_plot(india_2020_indicators['Urban population'], india_2020_indicators['Electric power consumption (kWh per capita)'], 'urban population vs electric power consumption','urban population', 'electric power consumption', color='magenta')"
   ]
  },
  {
   "cell_type": "code",
   "execution_count": null,
   "id": "5f929650-8653-461d-b040-a9dbfe6d4b0c",
   "metadata": {},
   "outputs": [],
   "source": []
  }
 ],
 "metadata": {
  "kernelspec": {
   "display_name": "Python 3 (ipykernel)",
   "language": "python",
   "name": "python3"
  },
  "language_info": {
   "codemirror_mode": {
    "name": "ipython",
    "version": 3
   },
   "file_extension": ".py",
   "mimetype": "text/x-python",
   "name": "python",
   "nbconvert_exporter": "python",
   "pygments_lexer": "ipython3",
   "version": "3.9.7"
  }
 },
 "nbformat": 4,
 "nbformat_minor": 5
}
